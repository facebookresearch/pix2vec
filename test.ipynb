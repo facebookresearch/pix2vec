{
 "cells": [
  {
   "cell_type": "code",
   "execution_count": null,
   "metadata": {},
   "outputs": [],
   "source": [
    "%load_ext autoreload\n",
    "%autoreload 2"
   ]
  },
  {
   "cell_type": "code",
   "execution_count": null,
   "metadata": {},
   "outputs": [],
   "source": [
    "import torch\n",
    "from train import Trainer, get_args"
   ]
  },
  {
   "cell_type": "code",
   "execution_count": null,
   "metadata": {},
   "outputs": [],
   "source": [
    "model_path = 'trained_models/nMasks_10_nParam_29_canvasInit_black_ckpt.pth'\n",
    "\n",
    "x = torch.load(model_path)\n",
    "\n",
    "args = x['args']\n",
    "\n",
    "args.ngpus = 1\n",
    "args.logdir = 'runs/test/'\n",
    "\n",
    "args.ckptPath = model_path\n",
    "\n",
    "trainer = Trainer(args)\n",
    "\n",
    "print(f'Loaded model from {model_path}')"
   ]
  },
  {
   "cell_type": "code",
   "execution_count": null,
   "metadata": {},
   "outputs": [],
   "source": [
    "from PIL import Image\n",
    "from torchvision import transforms as T\n",
    "\n",
    "im = Image.open('images/1.png').convert('RGB')\n",
    "\n",
    "val_transform = T.Compose([\n",
    "    T.Resize(128),\n",
    "    T.CenterCrop(128),\n",
    "    T.ToTensor(),\n",
    "])\n",
    "ims = val_transform(im).unsqueeze(0)"
   ]
  },
  {
   "cell_type": "code",
   "execution_count": null,
   "metadata": {},
   "outputs": [],
   "source": [
    "trainer.model.eval();\n",
    "with torch.no_grad():\n",
    "    output = trainer.model(ims.cuda(), return_=True)"
   ]
  },
  {
   "cell_type": "code",
   "execution_count": null,
   "metadata": {},
   "outputs": [],
   "source": [
    "from IPython.display import display\n",
    "canvas = torch.zeros(3, 128, 128)\n",
    "\n",
    "def show(tensor):\n",
    "    display(T.ToPILImage()(tensor))\n",
    "    \n",
    "show(canvas)\n",
    "show(ims[0])\n",
    "\n",
    "for i in range(10):\n",
    "    print('Iteration: ',i)\n",
    "    mask = output['allMasks'][i][0].cpu()\n",
    "    color = output['allColors'][i][0].cpu()\n",
    "    colored_mask = mask * color[:,None,None]\n",
    "    \n",
    "    canvas = canvas * (1-mask) + colored_mask\n",
    "    show(mask)\n",
    "    show(colored_mask)\n",
    "    show(canvas)"
   ]
  },
  {
   "cell_type": "code",
   "execution_count": null,
   "metadata": {},
   "outputs": [],
   "source": []
  }
 ],
 "metadata": {
  "kernelspec": {
   "display_name": "Python 3",
   "language": "python",
   "name": "python3"
  },
  "language_info": {
   "codemirror_mode": {
    "name": "ipython",
    "version": 3
   },
   "file_extension": ".py",
   "mimetype": "text/x-python",
   "name": "python",
   "nbconvert_exporter": "python",
   "pygments_lexer": "ipython3",
   "version": "3.6.9"
  }
 },
 "nbformat": 4,
 "nbformat_minor": 2
}
