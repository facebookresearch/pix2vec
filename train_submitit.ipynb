{
 "cells": [
  {
   "cell_type": "code",
   "execution_count": 1,
   "metadata": {},
   "outputs": [],
   "source": [
    "%load_ext autoreload\n",
    "%autoreload 2"
   ]
  },
  {
   "cell_type": "code",
   "execution_count": 3,
   "metadata": {},
   "outputs": [
    {
     "name": "stdout",
     "output_type": "stream",
     "text": [
      "Launching 2 experiments\n",
      "0 runs/resume_nMasks_10_nParam_29_canvasInit_longer/29097176_canvasInit_black 29097176\n",
      "1 runs/resume_nMasks_10_nParam_29_canvasInit_longer/29097177_canvasInit_rand 29097177\n",
      "Done!\n"
     ]
    }
   ],
   "source": [
    "from train import Trainer, train, get_args\n",
    "from launcher import launch_grid\n",
    "\n",
    "args = get_args()\n",
    "\n",
    "# args.ngpus = 1\n",
    "\n",
    "# args.nMasks = 20\n",
    "# args.nParam = 13\n",
    "# trainer = Trainer(args)\n",
    "\n",
    "folder = 'runs/resume_nMasks_10_nParam_29_canvasInit_longer/'\n",
    "grid = {\n",
    "    'canvasInit':['black', 'rand'],\n",
    "    'ckptPath':['ckpts/ckpt_10masks_29Param_pcptl.pth'],\n",
    "    'max_iter':[2000000],\n",
    "    'milestones':[[1500000, 1750000],],\n",
    "}\n",
    "\n",
    "# impact of changing canvasInit -- running\n",
    "# impact of using colorJitter augmentation -- to run\n",
    "# \n",
    "jobs = launch_grid(train, args, grid, folder=folder, partition='dev', local=False)"
   ]
  },
  {
   "cell_type": "code",
   "execution_count": 4,
   "metadata": {},
   "outputs": [],
   "source": [
    "for job in jobs:\n",
    "    job['job'].cancel()"
   ]
  },
  {
   "cell_type": "code",
   "execution_count": null,
   "metadata": {},
   "outputs": [],
   "source": []
  }
 ],
 "metadata": {
  "kernelspec": {
   "display_name": "Python 3",
   "language": "python",
   "name": "python3"
  },
  "language_info": {
   "codemirror_mode": {
    "name": "ipython",
    "version": 3
   },
   "file_extension": ".py",
   "mimetype": "text/x-python",
   "name": "python",
   "nbconvert_exporter": "python",
   "pygments_lexer": "ipython3",
   "version": "3.6.9"
  }
 },
 "nbformat": 4,
 "nbformat_minor": 2
}
